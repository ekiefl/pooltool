{
 "cells": [
  {
   "cell_type": "markdown",
   "id": "b1639ce9",
   "metadata": {
    "editable": true,
    "slideshow": {
     "slide_type": ""
    }
   },
   "source": [
    "# Straight Shot Difficulty\n",
    "\n",
    "Consider a straight shot into a pocket where the cue ball (CB) is a total distance $D$ from the pocket. Which object ball (OB) position (distance $d$ from the CB) results in the most difficult pot?\n",
    "\n",
    "This question is posed by Dr. Dave Billiards in [this proof](https://billiards.colostate.edu/technical_proofs/TP_3-4.pdf) and based on the assumptions made, the answer is\n",
    "\n",
    "$$\n",
    "d = D/2\n",
    "$$\n",
    "\n",
    "In other words, the shot is made most difficult when the OB is placed equidistantly from both the pocket and the CB.\n",
    "\n",
    "In this example, we will directly simulate straight shots and determine under what circumstances this theory holds up."
   ]
  },
  {
   "cell_type": "markdown",
   "id": "d36cdb8d",
   "metadata": {},
   "source": [
    "## Setting up a system\n",
    "\n",
    "Let's set up a system where the OB is shot into a corner pocket _straight on_ (at an angle of 45 degrees from both the long cushion and short cushion).\n",
    "\n",
    "We'll begin by creating a big square [Table](../autoapi/pooltool/index.rst#pooltool.Table) that gives us plenty of space. There are many different parameters that can be passed to [PocketTableSpecs](../autoapi/pooltool/objects/index.rst#pooltool.objects.PocketTableSpecs) that influence the shape of the pockets (you can get a visual explanation of each parameter [here](../resources/table_specs.md)), but here we will keep the default values, which are modelled after my old 7-foot Showood table with pretty wide 5 inch pockets."
   ]
  },
  {
   "cell_type": "code",
   "execution_count": 1,
   "id": "e936c90f",
   "metadata": {
    "execution": {
     "iopub.execute_input": "2025-05-11T00:31:48.314719Z",
     "iopub.status.busy": "2025-05-11T00:31:48.314234Z",
     "iopub.status.idle": "2025-05-11T00:31:49.933635Z",
     "shell.execute_reply": "2025-05-11T00:31:49.932240Z"
    }
   },
   "outputs": [],
   "source": [
    "import pooltool as pt\n",
    "\n",
    "table_specs = pt.objects.PocketTableSpecs(l=10, w=10)\n",
    "table = pt.Table.from_table_specs(table_specs)"
   ]
  },
  {
   "cell_type": "markdown",
   "id": "800e6f5e",
   "metadata": {},
   "source": [
    "As a reminder, $D$ represents the distance of the CB to the pocket, but let's be a little more precise with what that means. From the CB, we will measure from the ball's center, and from the pocket we will measure from pocket's edge that's closest to the CB. So when $D$ is 0, the CB is teetering on the edge of the pocket.\n",
    "\n",
    "With that in mind, let's pick the bottom-left corner [Pocket](../autoapi/pooltool/objects/index.rst#pooltool.objects.Pocket) as our target and place a CB a distance $D$ away."
   ]
  },
  {
   "cell_type": "code",
   "execution_count": 2,
   "id": "1aff3ee3",
   "metadata": {
    "execution": {
     "iopub.execute_input": "2025-05-11T00:31:49.939070Z",
     "iopub.status.busy": "2025-05-11T00:31:49.937673Z",
     "iopub.status.idle": "2025-05-11T00:31:49.947241Z",
     "shell.execute_reply": "2025-05-11T00:31:49.945550Z"
    }
   },
   "outputs": [
    {
     "name": "stdout",
     "output_type": "stream",
     "text": [
      "The pocket point is [0.0595383909759073 0.0595383909759073]\n"
     ]
    }
   ],
   "source": [
    "import numpy as np\n",
    "\n",
    "# lb stands for left-bottom\n",
    "pocket = table.pockets[\"lb\"]\n",
    "\n",
    "# The pocket's center is defined with 3D coordinates, but we'll just use X and Y\n",
    "center = pocket.center[:2]\n",
    "\n",
    "pocket_point = center + pocket.radius * np.sqrt(2)\n",
    "\n",
    "print(f\"The pocket point is {pocket_point}\")"
   ]
  },
  {
   "cell_type": "markdown",
   "id": "5ce62613",
   "metadata": {},
   "source": [
    "Now let's create a cue ball a distance $D$ away."
   ]
  },
  {
   "cell_type": "code",
   "execution_count": 3,
   "id": "15884154",
   "metadata": {
    "execution": {
     "iopub.execute_input": "2025-05-11T00:31:49.951621Z",
     "iopub.status.busy": "2025-05-11T00:31:49.951220Z",
     "iopub.status.idle": "2025-05-11T00:31:50.756850Z",
     "shell.execute_reply": "2025-05-11T00:31:50.745444Z"
    }
   },
   "outputs": [],
   "source": [
    "D = 1.0\n",
    "\n",
    "def create_cue_ball(pocket_point, D):\n",
    "    cue_point = pocket_point + D * np.sqrt(2)\n",
    "    return pt.Ball.create(\"CB\", xy=cue_point)\n",
    "\n",
    "cue_ball = create_cue_ball(pocket_point, D)"
   ]
  },
  {
   "cell_type": "markdown",
   "id": "704f82e8",
   "metadata": {},
   "source": [
    "Let's create an object ball a distance $d$ from the cue ball. In order for the object ball to be between the cue and the pocket, $d$ is constrained by\n",
    "\n",
    "$$\n",
    "2 R \\lt d \\lt D\n",
    "$$\n",
    "\n",
    "where $R$ is the radius of the balls."
   ]
  },
  {
   "cell_type": "code",
   "execution_count": 4,
   "id": "9587ae3e",
   "metadata": {
    "execution": {
     "iopub.execute_input": "2025-05-11T00:31:50.769701Z",
     "iopub.status.busy": "2025-05-11T00:31:50.768946Z",
     "iopub.status.idle": "2025-05-11T00:31:50.779334Z",
     "shell.execute_reply": "2025-05-11T00:31:50.777892Z"
    }
   },
   "outputs": [],
   "source": [
    "def create_object_ball(cue_ball, d):\n",
    "    obj_point = cue_ball.xyz[:2] - d * np.sqrt(2)\n",
    "    return pt.Ball.create(\"OB\", xy=obj_point)\n",
    "\n",
    "d = 0.3\n",
    "\n",
    "obj_ball = create_object_ball(cue_ball, d)"
   ]
  },
  {
   "cell_type": "markdown",
   "id": "95351ff2",
   "metadata": {},
   "source": [
    "Let's go ahead and turn everything we've done into a function that takes $d$ and $D$ as parameters and returns a [System](../autoapi/pooltool/index.rst#pooltool.System)."
   ]
  },
  {
   "cell_type": "code",
   "execution_count": 5,
   "id": "d6e40365",
   "metadata": {
    "execution": {
     "iopub.execute_input": "2025-05-11T00:31:50.784859Z",
     "iopub.status.busy": "2025-05-11T00:31:50.784397Z",
     "iopub.status.idle": "2025-05-11T00:31:50.791974Z",
     "shell.execute_reply": "2025-05-11T00:31:50.790710Z"
    }
   },
   "outputs": [],
   "source": [
    "def create_system(d, D):\n",
    "    table_specs = pt.objects.PocketTableSpecs(l=10, w=10)\n",
    "    table = pt.Table.from_table_specs(table_specs)       \n",
    "    pocket = table.pockets[\"lb\"]\n",
    "    pocket_point = pocket.center[:2] + pocket.radius * np.sqrt(2)\n",
    "\n",
    "    cue_ball = create_cue_ball(pocket_point, D)\n",
    "    obj_ball = create_object_ball(cue_ball, d)\n",
    "\n",
    "    return pt.System(\n",
    "        cue=pt.Cue(cue_ball_id=\"CB\"),\n",
    "        balls=(cue_ball, obj_ball),\n",
    "        table=table,\n",
    "    )"
   ]
  },
  {
   "cell_type": "markdown",
   "id": "46a0670b",
   "metadata": {},
   "source": [
    "With this function, we can create a system:"
   ]
  },
  {
   "cell_type": "code",
   "execution_count": 6,
   "id": "404172c2",
   "metadata": {
    "execution": {
     "iopub.execute_input": "2025-05-11T00:31:50.802388Z",
     "iopub.status.busy": "2025-05-11T00:31:50.800281Z",
     "iopub.status.idle": "2025-05-11T00:31:50.807507Z",
     "shell.execute_reply": "2025-05-11T00:31:50.806566Z"
    }
   },
   "outputs": [],
   "source": [
    "system = create_system(d, D)"
   ]
  },
  {
   "cell_type": "markdown",
   "id": "a42e69fe",
   "metadata": {},
   "source": [
    "If you have a graphics card, you can visualize the system in 3D with\n",
    "\n",
    "```python\n",
    "pt.show(system)\n",
    "```\n",
    "\n",
    "## Simulating a shot\n",
    "\n",
    "No energy has been imparted into the system so it's currently rather dull. Let's change that by striking the CB in the direction of the OB."
   ]
  },
  {
   "cell_type": "code",
   "execution_count": 7,
   "id": "58e960a9",
   "metadata": {
    "execution": {
     "iopub.execute_input": "2025-05-11T00:31:50.811844Z",
     "iopub.status.busy": "2025-05-11T00:31:50.811485Z",
     "iopub.status.idle": "2025-05-11T00:31:50.959328Z",
     "shell.execute_reply": "2025-05-11T00:31:50.956331Z"
    }
   },
   "outputs": [],
   "source": [
    "# phi is the aiming direction\n",
    "phi = pt.aim.at_ball(cue_ball=system.balls[\"CB\"], object_ball=system.balls[\"OB\"], cut=0)\n",
    "\n",
    "# Based on the geometry, we know that phi is 225 degrees (towards the bottom-left pocket)\n",
    "assert phi == 225.0\n",
    "\n",
    "system.cue.set_state(V0=1, phi=phi, cue_ball_id=\"CB\")"
   ]
  },
  {
   "cell_type": "markdown",
   "id": "29da653d",
   "metadata": {},
   "source": [
    "Since the pocket, OB, and CB are all lined up, this should lead to a successful pot. Let's check by simulating and filtering the system events according to our criteria."
   ]
  },
  {
   "cell_type": "code",
   "execution_count": 8,
   "id": "dd1cd57e",
   "metadata": {
    "execution": {
     "iopub.execute_input": "2025-05-11T00:31:50.974946Z",
     "iopub.status.busy": "2025-05-11T00:31:50.973561Z",
     "iopub.status.idle": "2025-05-11T00:31:51.328108Z",
     "shell.execute_reply": "2025-05-11T00:31:51.326809Z"
    }
   },
   "outputs": [
    {
     "data": {
      "text/plain": [
       "True"
      ]
     },
     "execution_count": 8,
     "metadata": {},
     "output_type": "execute_result"
    }
   ],
   "source": [
    "pt.simulate(system, inplace=True)\n",
    "\n",
    "def successful_pot(system) -> bool:\n",
    "    # Find events that are ball-pocket events and involve the object ball\n",
    "    pocket_events = pt.events.filter_events(\n",
    "        system.events,\n",
    "        pt.events.by_type(pt.EventType.BALL_POCKET),\n",
    "        pt.events.by_ball(\"OB\"),\n",
    "    )\n",
    "    return bool(len(pocket_events))    \n",
    "\n",
    "successful_pot(system)"
   ]
  },
  {
   "cell_type": "markdown",
   "id": "60ec5314",
   "metadata": {},
   "source": [
    "Great! As expected, it went straight in."
   ]
  },
  {
   "cell_type": "markdown",
   "id": "d31587ee",
   "metadata": {},
   "source": [
    "## Modeling imprecision\n",
    "\n",
    "Real pool players don't have perfect precision and we are going to emulate this by introducing uncertainty into the aiming angle $\\phi$. We'll call this uncertainty $d\\phi$.\n",
    "\n",
    "While we're at it, let's make a function that adds uncertainty not just to $\\phi$, but to the other cue striking parameters as well, that you can read about [here](../autoapi/pooltool/index.rst#pooltool.Cue)."
   ]
  },
  {
   "cell_type": "code",
   "execution_count": 9,
   "id": "cd733141",
   "metadata": {
    "execution": {
     "iopub.execute_input": "2025-05-11T00:31:51.334033Z",
     "iopub.status.busy": "2025-05-11T00:31:51.333410Z",
     "iopub.status.idle": "2025-05-11T00:31:51.341930Z",
     "shell.execute_reply": "2025-05-11T00:31:51.340162Z"
    }
   },
   "outputs": [],
   "source": [
    "def perturb(x, dx):\n",
    "    return x + dx * (2*np.random.rand() - 1)\n",
    "\n",
    "def strike(system, V0, a, phi, theta, dV0=0, da=0, dphi=0, dtheta=0):\n",
    "    system.cue.set_state(\n",
    "        cue_ball_id=\"CB\",\n",
    "        V0=perturb(V0, dV0),\n",
    "        a=perturb(a, da),\n",
    "        phi=perturb(phi, dphi),\n",
    "        theta=perturb(theta, dtheta),\n",
    "    )"
   ]
  },
  {
   "cell_type": "markdown",
   "id": "b1dad881",
   "metadata": {},
   "source": [
    "## Estimating Difficulty for a Given $d$\n",
    "\n",
    "To evaluate the difficulty level associated with shot where the OB is a distance $d$ from the CB, we will calculate the fraction of successful pots (successful shots) from a set of trials. In these trials, we will introduce random perturbations to the angle $\\phi$ for each shot. The perturbations are limited so that the angle $\\phi$ deviates by no more than a fixed amount $d\\phi$.\n",
    "\n",
    "This means that for each shot, the angle $\\phi$ is randomly adjusted within the range $[\\phi - d\\phi, \\phi + d\\phi]$. By observing how these perturbations affect the success rate, we can estimate the difficulty associated with the given $d$.\n",
    "\n",
    "Let's pick a $d\\phi$ and then simulate 100 shots."
   ]
  },
  {
   "cell_type": "code",
   "execution_count": 10,
   "id": "ee0d1e66",
   "metadata": {
    "execution": {
     "iopub.execute_input": "2025-05-11T00:31:51.348062Z",
     "iopub.status.busy": "2025-05-11T00:31:51.347623Z",
     "iopub.status.idle": "2025-05-11T00:31:52.231010Z",
     "shell.execute_reply": "2025-05-11T00:31:52.230234Z"
    }
   },
   "outputs": [
    {
     "name": "stdout",
     "output_type": "stream",
     "text": [
      "The success rate is 42%.\n"
     ]
    }
   ],
   "source": [
    "dphi = 0.4  # Just 0.4 degrees!\n",
    "phi = 225.0\n",
    "V0 = 1.0  # 1 m/s cue-stick strike\n",
    "a = 0  # No sidespin\n",
    "theta = 0  # Level cue stick\n",
    "d = 0.3\n",
    "D = 1.0\n",
    "\n",
    "num_trials = 100\n",
    "successes = []\n",
    "for _ in range(num_trials):\n",
    "    system = create_system(d, D)\n",
    "    strike(system, V0, a, phi, theta, dphi=dphi)\n",
    "    pt.simulate(system, inplace=True)\n",
    "    success = successful_pot(system)\n",
    "    successes.append(success)\n",
    "\n",
    "pot_fraction = sum(successes) / len(successes)\n",
    "print(f\"The success rate is {pot_fraction*100:.0f}%.\")"
   ]
  },
  {
   "cell_type": "markdown",
   "id": "315fd227",
   "metadata": {},
   "source": [
    "## Which $d$ yields the most difficult shot?"
   ]
  },
  {
   "cell_type": "markdown",
   "id": "1df8f50a",
   "metadata": {},
   "source": [
    "Great. Now, we can run the same experiment, but vary $d$ to determine which yields the most difficult shot."
   ]
  },
  {
   "cell_type": "code",
   "execution_count": 11,
   "id": "3a989057",
   "metadata": {
    "execution": {
     "iopub.execute_input": "2025-05-11T00:31:52.234811Z",
     "iopub.status.busy": "2025-05-11T00:31:52.234426Z",
     "iopub.status.idle": "2025-05-11T00:32:20.371322Z",
     "shell.execute_reply": "2025-05-11T00:32:20.370513Z"
    }
   },
   "outputs": [
    {
     "name": "stdout",
     "output_type": "stream",
     "text": [
      "For d = 0.06 m, the success rate is 100%.\n"
     ]
    },
    {
     "name": "stdout",
     "output_type": "stream",
     "text": [
      "For d = 0.14 m, the success rate is 86%.\n"
     ]
    },
    {
     "name": "stdout",
     "output_type": "stream",
     "text": [
      "For d = 0.23 m, the success rate is 55%.\n"
     ]
    },
    {
     "name": "stdout",
     "output_type": "stream",
     "text": [
      "For d = 0.31 m, the success rate is 40%.\n"
     ]
    },
    {
     "name": "stdout",
     "output_type": "stream",
     "text": [
      "For d = 0.40 m, the success rate is 38%.\n"
     ]
    },
    {
     "name": "stdout",
     "output_type": "stream",
     "text": [
      "For d = 0.49 m, the success rate is 37%.\n"
     ]
    },
    {
     "name": "stdout",
     "output_type": "stream",
     "text": [
      "For d = 0.57 m, the success rate is 36%.\n",
      "For d = 0.66 m, the success rate is 33%.\n"
     ]
    },
    {
     "name": "stdout",
     "output_type": "stream",
     "text": [
      "For d = 0.74 m, the success rate is 40%.\n"
     ]
    },
    {
     "name": "stdout",
     "output_type": "stream",
     "text": [
      "For d = 0.83 m, the success rate is 56%.\n"
     ]
    },
    {
     "name": "stdout",
     "output_type": "stream",
     "text": [
      "For d = 0.91 m, the success rate is 94%.\n"
     ]
    },
    {
     "name": "stdout",
     "output_type": "stream",
     "text": [
      "For d = 1.00 m, the success rate is 100%.\n"
     ]
    },
    {
     "data": {
      "image/png": "[encoded data removed]",
      "text/plain": [
       "<Figure size 800x600 with 1 Axes>"
      ]
     },
     "metadata": {},
     "output_type": "display_data"
    }
   ],
   "source": [
    "import numpy as np\n",
    "import matplotlib.pyplot as plt\n",
    "\n",
    "# Vary from 1mm separation between CB and OB to 1mm from pocket's edge\n",
    "d_values = np.linspace(2.001*cue_ball.params.R, D-0.001, 12)\n",
    "\n",
    "num_trials = 400\n",
    "pot_fractions = []\n",
    "\n",
    "for d in d_values:\n",
    "    successes = []\n",
    "    for _ in range(num_trials):\n",
    "        system = create_system(d, D)\n",
    "        strike(system, V0, a, phi, theta, dphi=dphi)\n",
    "        pt.simulate(system, inplace=True)\n",
    "        success = successful_pot(system)\n",
    "        successes.append(success)\n",
    "\n",
    "    pot_fraction = sum(successes) / len(successes)\n",
    "    pot_fractions.append(pot_fraction)\n",
    "    print(f\"For d = {d:.2f} m, the success rate is {pot_fraction*100:.0f}%.\")\n",
    "\n",
    "plt.figure(figsize=(8, 6))\n",
    "plt.plot(d_values, pot_fractions, marker='o')\n",
    "plt.xlabel('Distance d (m)')\n",
    "plt.ylabel('Success Rate')\n",
    "plt.title('Success Rate vs. Distance d')\n",
    "plt.grid(True)\n",
    "plt.show()"
   ]
  },
  {
   "cell_type": "markdown",
   "id": "9c9119af",
   "metadata": {
    "editable": true,
    "slideshow": {
     "slide_type": ""
    }
   },
   "source": [
    "Reading left to right, shot success starts high because the OB is close to the CB. But as the OB moves further away from the CB, the success rate decreases, reaching a minimum at around $D/2$. Past this point, the success rate starts to go up again, since the OB is now getting closer and closer to the pocket.\n",
    "\n",
    "Since this data is generated from a small number of trials, there is some variance in the plot, but if you increase `num_trials` the curve smooths."
   ]
  },
  {
   "cell_type": "markdown",
   "id": "ed7c0e05",
   "metadata": {},
   "source": [
    "## What about skill level?\n",
    "\n",
    "Since $d\\phi$ is a measure of how precise the shot is, it is a reasonable proxy for skill level. With that in mind, how should we expect the shot success trajectory to vary as a function of skill level? Let's repeat the experiment for 3 different skill levels."
   ]
  },
  {
   "cell_type": "code",
   "execution_count": 12,
   "id": "5d781ff9",
   "metadata": {
    "editable": true,
    "execution": {
     "iopub.execute_input": "2025-05-11T00:32:20.374552Z",
     "iopub.status.busy": "2025-05-11T00:32:20.374152Z",
     "iopub.status.idle": "2025-05-11T00:33:32.763153Z",
     "shell.execute_reply": "2025-05-11T00:33:32.762593Z"
    },
    "slideshow": {
     "slide_type": ""
    },
    "tags": [
     "nbsphinx-gallery"
    ]
   },
   "outputs": [
    {
     "name": "stdout",
     "output_type": "stream",
     "text": [
      "Finished dphi=0.15\n"
     ]
    },
    {
     "name": "stdout",
     "output_type": "stream",
     "text": [
      "Finished dphi=0.25\n"
     ]
    },
    {
     "name": "stdout",
     "output_type": "stream",
     "text": [
      "Finished dphi=0.5\n"
     ]
    },
    {
     "data": {
      "image/png": "[encoded data removed]",
      "text/plain": [
       "<Figure size 800x600 with 1 Axes>"
      ]
     },
     "metadata": {},
     "output_type": "display_data"
    }
   ],
   "source": [
    "# Define the range of 'd' values you want to test\n",
    "d_values = np.linspace(2.001 * cue_ball.params.R, D - 0.001, 12)\n",
    "\n",
    "# Define the range of 'dphi' values (in degrees)\n",
    "dphi_values = [0.15, 0.25, 0.5]\n",
    "\n",
    "num_trials = 400\n",
    "results = {}\n",
    "\n",
    "for dphi in dphi_values:\n",
    "    pot_fractions = []\n",
    "    for d in d_values:\n",
    "        successes = []\n",
    "        for _ in range(num_trials):\n",
    "            system = create_system(d, D)\n",
    "            strike(system, V0, a, phi, theta, dphi=dphi)\n",
    "            pt.simulate(system, inplace=True)\n",
    "            success = successful_pot(system)\n",
    "            successes.append(success)\n",
    "\n",
    "        pot_fraction = sum(successes) / len(successes)\n",
    "        pot_fractions.append(pot_fraction)\n",
    "        \n",
    "    print(f\"Finished {dphi=}\")\n",
    "    results[dphi] = pot_fractions\n",
    "\n",
    "plt.figure(figsize=(8, 6))\n",
    "for dphi in dphi_values:\n",
    "    plt.plot(d_values, results[dphi], marker='o', label=f'dphi = {dphi}°')\n",
    "\n",
    "plt.xlabel('Distance d (m)')\n",
    "plt.ylabel('Success Rate')\n",
    "plt.title('Success Rate vs. Distance d for Different Skill (dphi) Values')\n",
    "plt.legend()\n",
    "plt.grid(True)\n",
    "plt.show()"
   ]
  },
  {
   "cell_type": "markdown",
   "id": "d3a6acf6",
   "metadata": {},
   "source": [
    "Regardless of skill level, when $\\lim_{d \\rightarrow 2R^{+}}$ and $\\lim_{d \\rightarrow D^{-}}$, the success rate converges to $100\\%$. That's expected—when the object ball OB is practically touching the CB or hanging over the pocket, potting becomes nearly automatic for all skill levels. \n",
    "\n",
    "But what’s more interesting is observing the extent and sharpness with which success rate drops when the OB is at an intermediate distance $d$. The least skilled players experience the earliest, sharpest, and lowest plummet in sucess rate, whereas high skilled players maintain higher success rate for longer. Yet no matter the skill, the minimum seems to be right at around $d=D/2$."
   ]
  },
  {
   "cell_type": "code",
   "execution_count": null,
   "id": "19c96b60",
   "metadata": {},
   "outputs": [],
   "source": []
  }
 ],
 "metadata": {
  "jupytext": {
   "notebook_metadata_filter": "all"
  },
  "kernelspec": {
   "display_name": "pooltool-dev",
   "language": "python",
   "name": "python3"
  },
  "language_info": {
   "codemirror_mode": {
    "name": "ipython",
    "version": 3
   },
   "file_extension": ".py",
   "mimetype": "text/x-python",
   "name": "python",
   "nbconvert_exporter": "python",
   "pygments_lexer": "ipython3",
   "version": "3.13.0"
  }
 },
 "nbformat": 4,
 "nbformat_minor": 5
}
